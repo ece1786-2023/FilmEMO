{
 "cells": [
  {
   "cell_type": "code",
   "execution_count": 4,
   "metadata": {},
   "outputs": [
    {
     "name": "stderr",
     "output_type": "stream",
     "text": [
      "[nltk_data] Downloading package stopwords to\n",
      "[nltk_data]     /Users/qujianning/nltk_data...\n",
      "[nltk_data]   Package stopwords is already up-to-date!\n"
     ]
    },
    {
     "name": "stdout",
     "output_type": "stream",
     "text": [
      "Accuracy: 0.8412586425850148\n",
      "Classification Report:\n",
      "               precision    recall  f1-score   support\n",
      "\n",
      "          -1       0.74      0.32      0.45       594\n",
      "           0       0.54      0.10      0.16       742\n",
      "           1       0.85      0.99      0.92      5751\n",
      "\n",
      "    accuracy                           0.84      7087\n",
      "   macro avg       0.71      0.47      0.51      7087\n",
      "weighted avg       0.81      0.84      0.80      7087\n",
      "\n"
     ]
    }
   ],
   "source": [
    "import pandas as pd\n",
    "import numpy as np\n",
    "from sklearn.model_selection import train_test_split\n",
    "from sklearn.feature_extraction.text import TfidfVectorizer\n",
    "from sklearn.ensemble import RandomForestClassifier\n",
    "from sklearn.metrics import classification_report, accuracy_score\n",
    "import re\n",
    "import nltk\n",
    "from nltk.corpus import stopwords\n",
    "nltk.download('stopwords')\n",
    "\n",
    "# 加载数据集\n",
    "df = pd.read_csv('ratings_comments_pairs.csv')\n",
    "df = df.sample(frac=0.5)\n",
    "\n",
    "# 数据清洗\n",
    "df.dropna(inplace=True)\n",
    "\n",
    "# 文本预处理函数\n",
    "def preprocess_text(text):\n",
    "    text = text.lower()  # 转换为小写\n",
    "    text = re.sub(r'\\W', ' ', text)  # 移除标点符号\n",
    "    text = re.sub(r'\\s+', ' ', text)  # 移除多余空格\n",
    "    words = text.split()\n",
    "    words = [word for word in words if word not in stopwords.words('english')]  # 移除停用词\n",
    "    text = ' '.join(words)\n",
    "    return text\n",
    "\n",
    "# 应用文本预处理\n",
    "df['comment'] = df['comment'].apply(preprocess_text)\n",
    "\n",
    "# 特征提取\n",
    "tfidf = TfidfVectorizer(max_features=5000)\n",
    "X = tfidf.fit_transform(df['comment']).toarray()\n",
    "y = df['rating']\n",
    "\n",
    "# 分割数据集\n",
    "X_train, X_test, y_train, y_test = train_test_split(X, y, test_size=0.3, random_state=42)\n",
    "\n",
    "# 模型训练\n",
    "model = RandomForestClassifier(n_estimators=100, random_state=42)\n",
    "model.fit(X_train, y_train)\n",
    "\n",
    "# 模型评估\n",
    "y_pred = model.predict(X_test)\n",
    "print(\"Accuracy:\", accuracy_score(y_test, y_pred))\n",
    "print(\"Classification Report:\\n\", classification_report(y_test, y_pred))\n"
   ]
  },
  {
   "cell_type": "markdown",
   "metadata": {},
   "source": [
    "### SVM"
   ]
  },
  {
   "cell_type": "code",
   "execution_count": 5,
   "metadata": {},
   "outputs": [
    {
     "name": "stdout",
     "output_type": "stream",
     "text": [
      "SVM Accuracy: 0.8737124312120784\n",
      "SVM Classification Report:\n",
      "               precision    recall  f1-score   support\n",
      "\n",
      "          -1       0.73      0.48      0.58       594\n",
      "           0       0.60      0.35      0.44       742\n",
      "           1       0.90      0.98      0.94      5751\n",
      "\n",
      "    accuracy                           0.87      7087\n",
      "   macro avg       0.74      0.61      0.66      7087\n",
      "weighted avg       0.86      0.87      0.86      7087\n",
      "\n"
     ]
    }
   ],
   "source": [
    "from sklearn.svm import SVC\n",
    "\n",
    "# 使用SVM训练模型\n",
    "svm_model = SVC(kernel='linear', random_state=42)\n",
    "svm_model.fit(X_train, y_train)\n",
    "\n",
    "# 使用测试集评估SVM模型\n",
    "svm_pred = svm_model.predict(X_test)\n",
    "print(\"SVM Accuracy:\", accuracy_score(y_test, svm_pred))\n",
    "print(\"SVM Classification Report:\\n\", classification_report(y_test, svm_pred))"
   ]
  },
  {
   "cell_type": "markdown",
   "metadata": {},
   "source": [
    "### Regression"
   ]
  },
  {
   "cell_type": "code",
   "execution_count": 6,
   "metadata": {},
   "outputs": [
    {
     "name": "stdout",
     "output_type": "stream",
     "text": [
      "Logistic Regression Accuracy: 0.870467052349372\n",
      "Logistic Regression Classification Report:\n",
      "               precision    recall  f1-score   support\n",
      "\n",
      "          -1       0.78      0.41      0.54       594\n",
      "           0       0.62      0.35      0.45       742\n",
      "           1       0.89      0.99      0.94      5751\n",
      "\n",
      "    accuracy                           0.87      7087\n",
      "   macro avg       0.76      0.58      0.64      7087\n",
      "weighted avg       0.85      0.87      0.85      7087\n",
      "\n"
     ]
    },
    {
     "name": "stderr",
     "output_type": "stream",
     "text": [
      "/Users/qujianning/opt/anaconda3/lib/python3.9/site-packages/sklearn/linear_model/_logistic.py:814: ConvergenceWarning: lbfgs failed to converge (status=1):\n",
      "STOP: TOTAL NO. of ITERATIONS REACHED LIMIT.\n",
      "\n",
      "Increase the number of iterations (max_iter) or scale the data as shown in:\n",
      "    https://scikit-learn.org/stable/modules/preprocessing.html\n",
      "Please also refer to the documentation for alternative solver options:\n",
      "    https://scikit-learn.org/stable/modules/linear_model.html#logistic-regression\n",
      "  n_iter_i = _check_optimize_result(\n"
     ]
    }
   ],
   "source": [
    "from sklearn.linear_model import LogisticRegression\n",
    "\n",
    "# 使用逻辑回归训练模型\n",
    "logreg_model = LogisticRegression(random_state=42)\n",
    "logreg_model.fit(X_train, y_train)\n",
    "\n",
    "# 使用测试集评估逻辑回归模型\n",
    "logreg_pred = logreg_model.predict(X_test)\n",
    "print(\"Logistic Regression Accuracy:\", accuracy_score(y_test, logreg_pred))\n",
    "print(\"Logistic Regression Classification Report:\\n\", classification_report(y_test, logreg_pred))"
   ]
  },
  {
   "cell_type": "markdown",
   "metadata": {},
   "source": [
    "### Xgboost"
   ]
  },
  {
   "cell_type": "code",
   "execution_count": 9,
   "metadata": {},
   "outputs": [
    {
     "name": "stdout",
     "output_type": "stream",
     "text": [
      "Accuracy: 0.8661633977705658\n",
      "Classification Report:\n",
      "               precision    recall  f1-score   support\n",
      "\n",
      "          -1       0.75      0.44      0.56      1111\n",
      "           0       0.60      0.26      0.36      1492\n",
      "           1       0.89      0.98      0.93     11571\n",
      "\n",
      "    accuracy                           0.87     14174\n",
      "   macro avg       0.74      0.56      0.62     14174\n",
      "weighted avg       0.84      0.87      0.84     14174\n",
      "\n"
     ]
    }
   ],
   "source": [
    "import pandas as pd\n",
    "from sklearn.model_selection import train_test_split\n",
    "from sklearn.feature_extraction.text import TfidfVectorizer\n",
    "from sklearn.metrics import accuracy_score, classification_report\n",
    "import xgboost as xgb\n",
    "\n",
    "# 请替换成您的文件路径\n",
    "file_path = 'ratings_comments_pairs.csv'\n",
    "df = pd.read_csv(file_path)\n",
    "# df = df.sample(frac=0.5)\n",
    "label_mapping = {-1: 0, 0: 1, 1: 2}\n",
    "reverse_label_mapping = {0: -1, 1: 0, 2: 1}\n",
    "\n",
    "# 数据清洗\n",
    "df.dropna(inplace=True)\n",
    "\n",
    "# 文本预处理函数\n",
    "def preprocess_text(text):\n",
    "    text = text.lower()  # 转换为小写\n",
    "    text = re.sub(r'\\W', ' ', text)  # 移除标点符号\n",
    "    text = re.sub(r'\\s+', ' ', text)  # 移除多余空格\n",
    "    words = text.split()\n",
    "    words = [word for word in words if word not in stopwords.words('english')]  # 移除停用词\n",
    "    text = ' '.join(words)\n",
    "    return text\n",
    "\n",
    "# 应用文本预处理\n",
    "df['comment'] = df['comment'].apply(preprocess_text)\n",
    "\n",
    "tfidf_converter = TfidfVectorizer(max_features=2000, min_df=5, max_df=0.7)\n",
    "X = tfidf_converter.fit_transform(df['comment']).toarray()\n",
    "y_mapped = df['rating'].map(label_mapping)\n",
    "\n",
    "X_train, X_test, y_train, y_test = train_test_split(X, y_mapped, test_size=0.3, random_state=42)\n",
    "\n",
    "model = xgb.XGBClassifier()\n",
    "model.fit(X_train, y_train)\n",
    "\n",
    "predictions = model.predict(X_test)\n",
    "predictions_original_labels = [reverse_label_mapping[label] for label in predictions]\n",
    "# 评估模型\n",
    "print(\"Accuracy:\", accuracy_score(y_test.map(reverse_label_mapping), predictions_original_labels))\n",
    "print(\"Classification Report:\\n\", classification_report(y_test.map(reverse_label_mapping), predictions_original_labels))\n"
   ]
  }
 ],
 "metadata": {
  "language_info": {
   "name": "python"
  }
 },
 "nbformat": 4,
 "nbformat_minor": 2
}
