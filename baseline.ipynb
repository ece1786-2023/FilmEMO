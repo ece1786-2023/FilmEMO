{
 "cells": [
  {
   "cell_type": "code",
   "execution_count": 4,
   "metadata": {},
   "outputs": [
    {
     "name": "stderr",
     "output_type": "stream",
     "text": [
      "[nltk_data] Downloading package stopwords to\n",
      "[nltk_data]     /Users/qujianning/nltk_data...\n",
      "[nltk_data]   Package stopwords is already up-to-date!\n"
     ]
    },
    {
     "name": "stdout",
     "output_type": "stream",
     "text": [
      "Accuracy: 0.8412586425850148\n",
      "Classification Report:\n",
      "               precision    recall  f1-score   support\n",
      "\n",
      "          -1       0.74      0.32      0.45       594\n",
      "           0       0.54      0.10      0.16       742\n",
      "           1       0.85      0.99      0.92      5751\n",
      "\n",
      "    accuracy                           0.84      7087\n",
      "   macro avg       0.71      0.47      0.51      7087\n",
      "weighted avg       0.81      0.84      0.80      7087\n",
      "\n"
     ]
    }
   ],
   "source": [
    "import pandas as pd\n",
    "import numpy as np\n",
    "from sklearn.model_selection import train_test_split\n",
    "from sklearn.feature_extraction.text import TfidfVectorizer\n",
    "from sklearn.ensemble import RandomForestClassifier\n",
    "from sklearn.metrics import classification_report, accuracy_score\n",
    "import re\n",
    "import nltk\n",
    "from nltk.corpus import stopwords\n",
    "nltk.download('stopwords')\n",
    "\n",
    "# load dataset\n",
    "df = pd.read_csv('ratings_comments_pairs.csv')\n",
    "df = df.sample(frac=0.5)\n",
    "\n",
    "# data clean\n",
    "df.dropna(inplace=True)\n",
    "\n",
    "# data preprocessing\n",
    "def preprocess_text(text):\n",
    "    text = text.lower()  # lower case\n",
    "    text = re.sub(r'\\W', ' ', text)  # remove characters\n",
    "    text = re.sub(r'\\s+', ' ', text)  # remove spaces\n",
    "    words = text.split()\n",
    "    words = [word for word in words if word not in stopwords.words('english')]  # remove stop\n",
    "    text = ' '.join(words)\n",
    "    return text\n",
    "\n",
    "# apply data preprocessing\n",
    "df['comment'] = df['comment'].apply(preprocess_text)\n",
    "\n",
    "# extract feature\n",
    "tfidf = TfidfVectorizer(max_features=5000)\n",
    "X = tfidf.fit_transform(df['comment']).toarray()\n",
    "y = df['rating']\n",
    "\n",
    "# split dataset\n",
    "X_train, X_test, y_train, y_test = train_test_split(X, y, test_size=0.3, random_state=42)\n",
    "\n",
    "# model training\n",
    "model = RandomForestClassifier(n_estimators=100, random_state=42)\n",
    "model.fit(X_train, y_train)\n",
    "\n",
    "# model valuate\n",
    "y_pred = model.predict(X_test)\n",
    "print(\"Accuracy:\", accuracy_score(y_test, y_pred))\n",
    "print(\"Classification Report:\\n\", classification_report(y_test, y_pred))\n"
   ]
  },
  {
   "cell_type": "markdown",
   "metadata": {},
   "source": [
    "### SVM"
   ]
  },
  {
   "cell_type": "code",
   "execution_count": 5,
   "metadata": {},
   "outputs": [
    {
     "name": "stdout",
     "output_type": "stream",
     "text": [
      "SVM Accuracy: 0.8737124312120784\n",
      "SVM Classification Report:\n",
      "               precision    recall  f1-score   support\n",
      "\n",
      "          -1       0.73      0.48      0.58       594\n",
      "           0       0.60      0.35      0.44       742\n",
      "           1       0.90      0.98      0.94      5751\n",
      "\n",
      "    accuracy                           0.87      7087\n",
      "   macro avg       0.74      0.61      0.66      7087\n",
      "weighted avg       0.86      0.87      0.86      7087\n",
      "\n"
     ]
    }
   ],
   "source": [
    "from sklearn.svm import SVC\n",
    "\n",
    "# train SVC model\n",
    "svm_model = SVC(kernel='linear', random_state=42)\n",
    "svm_model.fit(X_train, y_train)\n",
    "\n",
    "# Valuate model\n",
    "svm_pred = svm_model.predict(X_test)\n",
    "print(\"SVM Accuracy:\", accuracy_score(y_test, svm_pred))\n",
    "print(\"SVM Classification Report:\\n\", classification_report(y_test, svm_pred))"
   ]
  },
  {
   "cell_type": "markdown",
   "metadata": {},
   "source": [
    "### Regression"
   ]
  },
  {
   "cell_type": "code",
   "execution_count": 6,
   "metadata": {},
   "outputs": [
    {
     "name": "stdout",
     "output_type": "stream",
     "text": [
      "Logistic Regression Accuracy: 0.870467052349372\n",
      "Logistic Regression Classification Report:\n",
      "               precision    recall  f1-score   support\n",
      "\n",
      "          -1       0.78      0.41      0.54       594\n",
      "           0       0.62      0.35      0.45       742\n",
      "           1       0.89      0.99      0.94      5751\n",
      "\n",
      "    accuracy                           0.87      7087\n",
      "   macro avg       0.76      0.58      0.64      7087\n",
      "weighted avg       0.85      0.87      0.85      7087\n",
      "\n"
     ]
    },
    {
     "name": "stderr",
     "output_type": "stream",
     "text": [
      "/Users/qujianning/opt/anaconda3/lib/python3.9/site-packages/sklearn/linear_model/_logistic.py:814: ConvergenceWarning: lbfgs failed to converge (status=1):\n",
      "STOP: TOTAL NO. of ITERATIONS REACHED LIMIT.\n",
      "\n",
      "Increase the number of iterations (max_iter) or scale the data as shown in:\n",
      "    https://scikit-learn.org/stable/modules/preprocessing.html\n",
      "Please also refer to the documentation for alternative solver options:\n",
      "    https://scikit-learn.org/stable/modules/linear_model.html#logistic-regression\n",
      "  n_iter_i = _check_optimize_result(\n"
     ]
    }
   ],
   "source": [
    "from sklearn.linear_model import LogisticRegression\n",
    "\n",
    "# train regression model\n",
    "logreg_model = LogisticRegression(random_state=42)\n",
    "logreg_model.fit(X_train, y_train)\n",
    "\n",
    "# valuation\n",
    "logreg_pred = logreg_model.predict(X_test)\n",
    "print(\"Logistic Regression Accuracy:\", accuracy_score(y_test, logreg_pred))\n",
    "print(\"Logistic Regression Classification Report:\\n\", classification_report(y_test, logreg_pred))"
   ]
  },
  {
   "cell_type": "markdown",
   "metadata": {},
   "source": [
    "### Xgboost"
   ]
  },
  {
   "cell_type": "code",
   "execution_count": 13,
   "metadata": {},
   "outputs": [
    {
     "name": "stdout",
     "output_type": "stream",
     "text": [
      "Accuracy: 0.8973240832507433\n",
      "Classification Report:\n",
      "               precision    recall  f1-score   support\n",
      "\n",
      "          -1       0.95      0.90      0.92      7081\n",
      "           0       0.60      0.23      0.33      1459\n",
      "           1       0.89      0.98      0.93     11640\n",
      "\n",
      "    accuracy                           0.90     20180\n",
      "   macro avg       0.81      0.70      0.73     20180\n",
      "weighted avg       0.89      0.90      0.88     20180\n",
      "\n"
     ]
    }
   ],
   "source": [
    "import pandas as pd\n",
    "from sklearn.model_selection import train_test_split\n",
    "from sklearn.feature_extraction.text import TfidfVectorizer\n",
    "from sklearn.metrics import accuracy_score, classification_report\n",
    "import xgboost as xgb\n",
    "\n",
    "file_path = 'combined_data.csv'\n",
    "df = pd.read_csv(file_path)\n",
    "# df = df.sample(frac=0.5)\n",
    "label_mapping = {-1: 0, 0: 1, 1: 2}\n",
    "reverse_label_mapping = {0: -1, 1: 0, 2: 1}\n",
    "\n",
    "# data clean\n",
    "df.dropna(inplace=True)\n",
    "\n",
    "# data preprocessing\n",
    "def preprocess_text(text):\n",
    "    text = text.lower()  \n",
    "    text = re.sub(r'\\W', ' ', text)  \n",
    "    text = re.sub(r'\\s+', ' ', text)\n",
    "    text = re.sub(\"[\"\n",
    "                   u\"\\U0001F600-\\U0001F64F\"  # emoticons\n",
    "                   u\"\\U0001F300-\\U0001F5FF\"  # symbols & pictographs\n",
    "                   u\"\\U0001F680-\\U0001F6FF\"  # transport & map symbols\n",
    "                   u\"\\U0001F1E0-\\U0001F1FF\"  # flags (iOS)\n",
    "                   u\"\\U00002702-\\U000027B0\"\n",
    "                   u\"\\U000024C2-\\U0001F251\"\n",
    "                   \"]+\", '', text, flags=re.UNICODE)  # delete emoji\n",
    "    words = text.split()\n",
    "    words = [word for word in words if word not in stopwords.words('english')]\n",
    "    text = ' '.join(words)\n",
    "    return text\n",
    "\n",
    "# apply data preprocessing\n",
    "df['comment'] = df['comment'].apply(preprocess_text)\n",
    "\n",
    "tfidf_converter = TfidfVectorizer(max_features=2000, min_df=5, max_df=0.7)\n",
    "X = tfidf_converter.fit_transform(df['comment']).toarray()\n",
    "y_mapped = df['rating'].map(label_mapping)\n",
    "\n",
    "X_train, X_test, y_train, y_test = train_test_split(X, y_mapped, test_size=0.3, random_state=42)\n",
    "\n",
    "model = xgb.XGBClassifier()\n",
    "model.fit(X_train, y_train)\n",
    "\n",
    "predictions = model.predict(X_test)\n",
    "predictions_original_labels = [reverse_label_mapping[label] for label in predictions]\n",
    "# valuation\n",
    "print(\"Accuracy:\", accuracy_score(y_test.map(reverse_label_mapping), predictions_original_labels))\n",
    "print(\"Classification Report:\\n\", classification_report(y_test.map(reverse_label_mapping), predictions_original_labels))"
   ]
  },
  {
   "cell_type": "code",
   "execution_count": 5,
   "metadata": {},
   "outputs": [
    {
     "name": "stderr",
     "output_type": "stream",
     "text": [
      "[nltk_data] Downloading package stopwords to\n",
      "[nltk_data]     /Users/qujianning/nltk_data...\n",
      "[nltk_data]   Package stopwords is already up-to-date!\n"
     ]
    }
   ],
   "source": [
    "import pandas as pd\n",
    "import numpy as np\n",
    "from sklearn.model_selection import train_test_split\n",
    "from sklearn.feature_extraction.text import TfidfVectorizer\n",
    "from sklearn.ensemble import RandomForestClassifier\n",
    "from sklearn.metrics import classification_report, accuracy_score\n",
    "import re\n",
    "import nltk\n",
    "from nltk.corpus import stopwords\n",
    "nltk.download('stopwords')\n",
    "\n",
    "file_path = 'combined_data.csv'\n",
    "df = pd.read_csv(file_path)\n",
    "# df = df.sample(frac=0.5)\n",
    "label_mapping = {-1: 0, 0: 1, 1: 2}\n",
    "reverse_label_mapping = {0: -1, 1: 0, 2: 1}\n",
    "\n",
    "# data clean\n",
    "df.dropna(inplace=True)\n",
    "stop_words = set(stopwords.words('english'))\n",
    "\n",
    "def preprocess_text(text):\n",
    "    text = text.lower()\n",
    "    text = re.sub(r'\\W', ' ', text)\n",
    "    text = re.sub(r'\\s+', ' ', text)\n",
    "    # text = re.sub(\"...\", '', text, flags=re.UNICODE)\n",
    "    words = text.split()\n",
    "    words = [word for word in words if word not in stop_words]\n",
    "    text = ' '.join(words)\n",
    "    return text\n",
    "\n",
    "df['comment'] = df['comment'].apply(preprocess_text)\n"
   ]
  },
  {
   "cell_type": "code",
   "execution_count": 12,
   "metadata": {},
   "outputs": [
    {
     "name": "stdout",
     "output_type": "stream",
     "text": [
      "67264\n",
      "23799\n",
      "4945\n",
      "38520\n"
     ]
    },
    {
     "data": {
      "text/html": [
       "<div>\n",
       "<style scoped>\n",
       "    .dataframe tbody tr th:only-of-type {\n",
       "        vertical-align: middle;\n",
       "    }\n",
       "\n",
       "    .dataframe tbody tr th {\n",
       "        vertical-align: top;\n",
       "    }\n",
       "\n",
       "    .dataframe thead th {\n",
       "        text-align: right;\n",
       "    }\n",
       "</style>\n",
       "<table border=\"1\" class=\"dataframe\">\n",
       "  <thead>\n",
       "    <tr style=\"text-align: right;\">\n",
       "      <th></th>\n",
       "      <th>rating</th>\n",
       "      <th>comment</th>\n",
       "    </tr>\n",
       "  </thead>\n",
       "  <tbody>\n",
       "    <tr>\n",
       "      <th>0</th>\n",
       "      <td>0</td>\n",
       "      <td>funny w great dialogue good reflections</td>\n",
       "    </tr>\n",
       "    <tr>\n",
       "      <th>1</th>\n",
       "      <td>1</td>\n",
       "      <td>great bio guy never heard seems black held bac...</td>\n",
       "    </tr>\n",
       "    <tr>\n",
       "      <th>2</th>\n",
       "      <td>1</td>\n",
       "      <td>cheadle hits right notes bio pic dc dj petey g...</td>\n",
       "    </tr>\n",
       "    <tr>\n",
       "      <th>3</th>\n",
       "      <td>0</td>\n",
       "      <td>cheadle amazing actor worht watching chiwetel ...</td>\n",
       "    </tr>\n",
       "    <tr>\n",
       "      <th>4</th>\n",
       "      <td>1</td>\n",
       "      <td>cheadle chiwetel ejofor movie story inspiratio...</td>\n",
       "    </tr>\n",
       "  </tbody>\n",
       "</table>\n",
       "</div>"
      ],
      "text/plain": [
       "   rating                                            comment\n",
       "0       0            funny w great dialogue good reflections\n",
       "1       1  great bio guy never heard seems black held bac...\n",
       "2       1  cheadle hits right notes bio pic dc dj petey g...\n",
       "3       0  cheadle amazing actor worht watching chiwetel ...\n",
       "4       1  cheadle chiwetel ejofor movie story inspiratio..."
      ]
     },
     "execution_count": 12,
     "metadata": {},
     "output_type": "execute_result"
    }
   ],
   "source": [
    "print(len(df))\n",
    "print(len(df[df['rating'] == -1]))\n",
    "print(len(df[df['rating'] == 0]))\n",
    "print(len(df[df['rating'] == 1]))\n",
    "df.head()"
   ]
  }
 ],
 "metadata": {
  "kernelspec": {
   "display_name": "base",
   "language": "python",
   "name": "python3"
  },
  "language_info": {
   "codemirror_mode": {
    "name": "ipython",
    "version": 3
   },
   "file_extension": ".py",
   "mimetype": "text/x-python",
   "name": "python",
   "nbconvert_exporter": "python",
   "pygments_lexer": "ipython3",
   "version": "3.9.12"
  }
 },
 "nbformat": 4,
 "nbformat_minor": 2
}
